{
 "cells": [
  {
   "cell_type": "code",
   "execution_count": 1,
   "metadata": {},
   "outputs": [
    {
     "name": "stdout",
     "output_type": "stream",
     "text": [
      "Twinkle, Twinkle, little star,\n",
      "      How I wonder what you are!\n",
      "           Up above the world so high,\n",
      "           Like a diamond in the sky.\n",
      "Twinkle, Twinkle, little star, \n"
     ]
    }
   ],
   "source": [
    "#question #1 \n",
    "print(\"Twinkle, Twinkle, little star,\" '\\n' \" \"\" \"\" \"\" \"\" \"\" How I wonder what you are!\" '\\n' \" \"\" \"\" \"\" \"\" \"\" \"\" \"\" \"\" \"\" \"\" Up above the world so high,\" '\\n' \" \"\" \"\" \"\" \"\" \"\" \"\" \"\" \"\" \"\" \"\" Like a diamond in the sky.\" '\\n' \"Twinkle, Twinkle, little star, \")\n"
   ]
  },
  {
   "cell_type": "code",
   "execution_count": 2,
   "metadata": {},
   "outputs": [
    {
     "name": "stdout",
     "output_type": "stream",
     "text": [
      "3.7.4 (default, Aug  9 2019, 18:34:13) [MSC v.1915 64 bit (AMD64)]\n"
     ]
    }
   ],
   "source": [
    "#question #2\n",
    "import sys\n",
    "print(sys. version)"
   ]
  },
  {
   "cell_type": "code",
   "execution_count": 3,
   "metadata": {},
   "outputs": [
    {
     "name": "stdout",
     "output_type": "stream",
     "text": [
      "time & date: 2019-11-03 01:20:53\n"
     ]
    }
   ],
   "source": [
    "#Question #3\n",
    "import datetime \n",
    "now = datetime.datetime.now()\n",
    "print(\"time & date:\",now.strftime(\"%Y-%m-%d %H:%M:%S\"))\n"
   ]
  },
  {
   "cell_type": "code",
   "execution_count": 6,
   "metadata": {},
   "outputs": [
    {
     "name": "stdout",
     "output_type": "stream",
     "text": [
      "radius of circle10\n",
      "area of circle: 314.2857142857143\n"
     ]
    }
   ],
   "source": [
    "#Question #4\n",
    "r=int(input (\"radius of circle\"))\n",
    "area= (22/7)*r**2\n",
    "print(\"area of circle:\", area)\n"
   ]
  },
  {
   "cell_type": "code",
   "execution_count": 7,
   "metadata": {},
   "outputs": [
    {
     "name": "stdout",
     "output_type": "stream",
     "text": [
      "first namehammad\n",
      "last namekhalid\n",
      "khalid hammad\n"
     ]
    }
   ],
   "source": [
    "#Question #5\n",
    "a=input(\"first name\")\n",
    "b=input(\"last name\")\n",
    "print(b, a)\n"
   ]
  },
  {
   "cell_type": "code",
   "execution_count": 9,
   "metadata": {},
   "outputs": [
    {
     "name": "stdout",
     "output_type": "stream",
     "text": [
      "first inputhammad\n",
      "second inputkhalid\n",
      "hammadkhalid\n"
     ]
    }
   ],
   "source": [
    "# Question #6\n",
    "a=input(\"first input\")\n",
    "b=input(\"second input\")\n",
    "print(a+b)\n",
    "\n"
   ]
  },
  {
   "cell_type": "code",
   "execution_count": null,
   "metadata": {},
   "outputs": [],
   "source": []
  }
 ],
 "metadata": {
  "kernelspec": {
   "display_name": "Python 3",
   "language": "python",
   "name": "python3"
  },
  "language_info": {
   "codemirror_mode": {
    "name": "ipython",
    "version": 3
   },
   "file_extension": ".py",
   "mimetype": "text/x-python",
   "name": "python",
   "nbconvert_exporter": "python",
   "pygments_lexer": "ipython3",
   "version": "3.7.4"
  }
 },
 "nbformat": 4,
 "nbformat_minor": 2
}
