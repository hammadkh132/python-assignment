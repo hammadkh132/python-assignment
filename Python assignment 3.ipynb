{
 "cells": [
  {
   "cell_type": "code",
   "execution_count": 3,
   "metadata": {},
   "outputs": [
    {
     "name": "stdout",
     "output_type": "stream",
     "text": [
      "enter first value5\n",
      "enter second value5\n",
      "enter operator+\n",
      "10 answer\n"
     ]
    }
   ],
   "source": [
    "#Question #1\n",
    "val1=int(input(\"enter first value\"))\n",
    "val2=int(input(\"enter second value\"))\n",
    "operator=input(\"enter operator\")\n",
    "if operator=='+':\n",
    "    val=val1+val2\n",
    "    print(val,\"answer\")\n",
    "elif operator =='-':\n",
    "    val=val1-val2\n",
    "    print(val,'answer')\n",
    "elif operator =='*':\n",
    "    val=val1*val2\n",
    "    print(val,'answer')\n",
    "elif operator =='/':\n",
    "    val=val1/val2\n",
    "    print(val,'answer')\n",
    "elif operator =='^':\n",
    "    val=val1**val2\n",
    "    print(val,'answer')\n",
    "else:\n",
    "    print(\"syntax error\")\n",
    "    \n"
   ]
  },
  {
   "cell_type": "code",
   "execution_count": 5,
   "metadata": {},
   "outputs": [
    {
     "name": "stdout",
     "output_type": "stream",
     "text": [
      "enter your number1\n",
      "there is no numeric value\n",
      "there is no numeric value\n",
      "there is no numeric value\n",
      "there is a numeric value\n"
     ]
    }
   ],
   "source": [
    "#question # 2\n",
    "number=(input(\"enter your number\"))\n",
    "random_list=[\"hammad\",\"zubair\", False,\"1\"]\n",
    "for check in random_list:\n",
    "    if number==check:\n",
    "        print(\"there is a numeric value\")\n",
    "    else :\n",
    "        print(\"there is no numeric value\")"
   ]
  },
  {
   "cell_type": "code",
   "execution_count": 7,
   "metadata": {},
   "outputs": [
    {
     "name": "stdout",
     "output_type": "stream",
     "text": [
      "{'First Name': 'Hammad Khalid', 'Father Name': 'Khalid Mahmood', 'D.O.B': '17-August-1996', 'Address': 'Karachi.'}\n",
      "{'First Name': 'Hammad Khalid', 'Father Name': 'Khalid Mahmood', 'D.O.B': '17-August-1996', 'Address': 'Karachi.', 'N.I.C': '42000-2061804-5'}\n"
     ]
    }
   ],
   "source": [
    "#Question #3\n",
    "personal_info = {\n",
    "    \"First Name\" : \"Hammad Khalid\",\n",
    "    \"Father Name\" : \"Khalid Mahmood\",\n",
    "    \"D.O.B\" : \"17-August-1996\",\n",
    "    \"Address\" : \"Karachi.\"\n",
    "}\n",
    "print(personal_info)\n",
    "personal_info[\"N.I.C\"] ='42000-2061804-5'\n",
    "print(personal_info)\n"
   ]
  },
  {
   "cell_type": "code",
   "execution_count": 8,
   "metadata": {},
   "outputs": [
    {
     "name": "stdout",
     "output_type": "stream",
     "text": [
      "sum: 8\n"
     ]
    }
   ],
   "source": [
    "#Quetion # 4\n",
    "dict={\"hammad\":0,\"khalid\":1,\"zubair\":3,\"aslam\":4}\n",
    "sum=0\n",
    "for i in dict:\n",
    "    sum= sum + dict[i]\n",
    "print(\"sum:\",sum)"
   ]
  },
  {
   "cell_type": "code",
   "execution_count": 9,
   "metadata": {},
   "outputs": [
    {
     "name": "stdout",
     "output_type": "stream",
     "text": [
      "[1, 2, 3, 5]\n"
     ]
    }
   ],
   "source": [
    "#Question # 5\n",
    "list_name=[1,2,3,4,5,2,3,5,6,2,1,3,5,7]\n",
    "_size=len(list_name)\n",
    "repeated=[]\n",
    "for i in range(_size):\n",
    "    k=i+1\n",
    "    for j in range(k,_size):\n",
    "        if list_name[i] == list_name[j] and list_name[i] not in repeated: \n",
    "                repeated.append(list_name[i]) \n",
    "print(repeated)\n"
   ]
  },
  {
   "cell_type": "code",
   "execution_count": 10,
   "metadata": {},
   "outputs": [
    {
     "name": "stdout",
     "output_type": "stream",
     "text": [
      "Key is present and value of the key is:\n",
      "Karachi.\n"
     ]
    }
   ],
   "source": [
    "#Question # 6\n",
    "personal_info = {\n",
    "    \"First Name\" : \"Hammad khalid\",\n",
    "    \"Father Name\" : \"Khalid Mahmood\",\n",
    "    \"D.O.B\" : \"17-August-1996\",\n",
    "    \"Address\" : \"Karachi.\"\n",
    "}\n",
    "if 'Address' in personal_info.keys():\n",
    "    print(\"Key is present and value of the key is:\",)\n",
    "    print(personal_info[\"Address\"])\n",
    "else:\n",
    "      print(\"Key is not present!\")"
   ]
  },
  {
   "cell_type": "code",
   "execution_count": null,
   "metadata": {},
   "outputs": [],
   "source": []
  }
 ],
 "metadata": {
  "kernelspec": {
   "display_name": "Python 3",
   "language": "python",
   "name": "python3"
  },
  "language_info": {
   "codemirror_mode": {
    "name": "ipython",
    "version": 3
   },
   "file_extension": ".py",
   "mimetype": "text/x-python",
   "name": "python",
   "nbconvert_exporter": "python",
   "pygments_lexer": "ipython3",
   "version": "3.7.4"
  }
 },
 "nbformat": 4,
 "nbformat_minor": 2
}
