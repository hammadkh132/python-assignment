{
 "cells": [
  {
   "cell_type": "code",
   "execution_count": 11,
   "metadata": {},
   "outputs": [
    {
     "name": "stdout",
     "output_type": "stream",
     "text": [
      "hunain\n",
      "saleem\n",
      "22\n",
      "{'First_Name': 'hunain', 'Last_Name': 'saleem', 'Age': 22, 'City': 'karachi', 'Qualification': 'Intermediate'}\n",
      "{'First_Name': 'hunain', 'Last_Name': 'saleem', 'Age': 22, 'City': 'karachi', 'Qualification': 'Bachelors'}\n",
      "{'First_Name': 'hunain', 'Last_Name': 'saleem', 'Age': 22, 'City': 'karachi'}\n"
     ]
    }
   ],
   "source": [
    "#Question #1\n",
    "person = {\n",
    "    \"First_Name\":\"hunain\",\n",
    "    \"Last_Name\":\"saleem\",\n",
    "    \"Age\":22,\n",
    "    \"City\":\"karachi\"\n",
    "}\n",
    "print(person['First_Name'])\n",
    "print(person['Last_Name'])\n",
    "print(person['Age'])\n",
    "person['Qualification'] = 'Intermediate'\n",
    "print(person)\n",
    "person_new = {'Qualification' : 'Bachelors'}\n",
    "person.update(person_new)\n",
    "print(person)\n",
    "del person['Qualification']\n",
    "print(person)\n",
    "\n",
    "\n",
    "    \n",
    "\n",
    "\n"
   ]
  },
  {
   "cell_type": "code",
   "execution_count": 13,
   "metadata": {},
   "outputs": [
    {
     "name": "stdout",
     "output_type": "stream",
     "text": [
      "\n",
      "Karachi is in Pakistan.\n",
      "It has a population of about 14.91 Million.\n",
      "The It is also called the city of the lights.\n",
      "\n",
      "Islamabad is in Pakistan.\n",
      "It has a population of about 1.015 million.\n",
      "The Islamabad is regarded as one of the most environmental friendly city\n",
      "\n",
      "Peshawar is in Pakistan.\n",
      "It has a population of about 1.97 million.\n",
      "The Peshawar, is a lively city with rich cultures\n"
     ]
    }
   ],
   "source": [
    "#Question # 2\n",
    "cities = {\n",
    "    'Karachi' : {\n",
    "        'Country' : 'Pakistan',\n",
    "        'Population' : '14.91 Million',\n",
    "        'Facts' : 'It is also called the city of the lights.'\n",
    "    },\n",
    "    'Islamabad' : {\n",
    "        'Country' : 'Pakistan',\n",
    "        'Population' : '1.015 million',\n",
    "        'Facts' : 'Islamabad is regarded as one of the most environmental friendly city'\n",
    "    },\n",
    "    'Peshawar' : {\n",
    "        'Country' : 'Pakistan',\n",
    "        'Population' : '1.97 million',\n",
    "        'Facts' : 'Peshawar, is a lively city with rich cultures'\n",
    "    }\n",
    "}\n",
    "\n",
    "\n",
    "for city, info in cities.items():\n",
    "    Country = info['Country']\n",
    "    Population = info['Population']\n",
    "    Facts = info['Facts']\n",
    "\n",
    "    print(\"\\n\" + city + \" is in \" + Country + \".\")\n",
    "    print(\"It has a population of about \" + str(Population) + \".\")\n",
    "    print(\"The \" + Facts )"
   ]
  },
  {
   "cell_type": "code",
   "execution_count": 14,
   "metadata": {},
   "outputs": [
    {
     "name": "stdout",
     "output_type": "stream",
     "text": [
      "How old are you? 15\n",
      "It`s $15 for a ticket.\n"
     ]
    }
   ],
   "source": [
    "#question # 3\n",
    "Age = int(input(\"How old are you? \"))\n",
    "\n",
    "if Age < 3:\n",
    "    print(\"Welcome! It`s free for you.\")\n",
    "elif Age < 12:\n",
    "    print(\"It`s $10 for a ticket.\")\n",
    "else:\n",
    "    print(\"It`s $15 for a ticket.\")\n",
    "    "
   ]
  },
  {
   "cell_type": "code",
   "execution_count": 24,
   "metadata": {},
   "outputs": [
    {
     "name": "stdout",
     "output_type": "stream",
     "text": [
      "My favourite book is God by Reza Aslan\n"
     ]
    }
   ],
   "source": [
    "#Question # 4\n",
    "def favorite_book(title):\n",
    "    print(\"My favourite book is\" + \" \" + title )\n",
    "\n",
    "favorite_book('God by Reza Aslan')\n",
    "          "
   ]
  },
  {
   "cell_type": "code",
   "execution_count": 25,
   "metadata": {},
   "outputs": [
    {
     "name": "stdout",
     "output_type": "stream",
     "text": [
      "How old are you? \n",
      "Enter 'Done' When you done buying. \n",
      "10\n",
      "It`s free for you.\n",
      "How old are you? \n",
      "Enter 'Done' When you done buying. \n",
      "15\n",
      "It`s free for you.\n",
      "How old are you? \n",
      "Enter 'Done' When you done buying. \n",
      "break\n",
      "It`s $15 for a ticket.\n",
      "How old are you? \n",
      "Enter 'Done' When you done buying. \n",
      "done\n",
      "It`s $15 for a ticket.\n",
      "How old are you? \n",
      "Enter 'Done' When you done buying. \n",
      "Done\n"
     ]
    }
   ],
   "source": [
    "#Question #5\n",
    "while True:        \n",
    "    print(\"How old are you? \")\n",
    "    print(\"Enter 'Done' When you done buying. \")\n",
    "    Age = input()\n",
    "    if Age == 'Done':\n",
    "        break\n",
    "    Age = (Age)\n",
    "    if Age < '3':\n",
    "        print(\"It`s free for you.\")\n",
    "    elif Age < '12':\n",
    "        print(\"It`s $10 for a ticket.\")\n",
    "    else:\n",
    "        print(\"It`s $15 for a ticket.\")"
   ]
  },
  {
   "cell_type": "code",
   "execution_count": null,
   "metadata": {},
   "outputs": [],
   "source": []
  },
  {
   "cell_type": "code",
   "execution_count": null,
   "metadata": {},
   "outputs": [],
   "source": []
  }
 ],
 "metadata": {
  "kernelspec": {
   "display_name": "Python 3",
   "language": "python",
   "name": "python3"
  },
  "language_info": {
   "codemirror_mode": {
    "name": "ipython",
    "version": 3
   },
   "file_extension": ".py",
   "mimetype": "text/x-python",
   "name": "python",
   "nbconvert_exporter": "python",
   "pygments_lexer": "ipython3",
   "version": "3.7.4"
  }
 },
 "nbformat": 4,
 "nbformat_minor": 2
}
