{
 "cells": [
  {
   "cell_type": "code",
   "execution_count": 1,
   "metadata": {},
   "outputs": [
    {
     "name": "stdout",
     "output_type": "stream",
     "text": [
      "120\n"
     ]
    }
   ],
   "source": [
    "#Question # 1\n",
    "def num_factorial(num):\n",
    "    a=1\n",
    "    x=range(1,num+1)\n",
    "    for i in x:\n",
    "        a=a*i\n",
    "    return a\n",
    "return_var=num_factorial(5)\n",
    "\n",
    "print(return_var)\n"
   ]
  },
  {
   "cell_type": "code",
   "execution_count": 2,
   "metadata": {},
   "outputs": [
    {
     "name": "stdout",
     "output_type": "stream",
     "text": [
      "The number of lowercase characters is:\n",
      "6\n",
      "The number of uppercase characters is:\n",
      "0\n"
     ]
    }
   ],
   "source": [
    "#Question #2\n",
    "def string(name):\n",
    "    count1=0\n",
    "    count2=0\n",
    "    for i in name:\n",
    "      if(i.islower()):\n",
    "            count1=count1+1\n",
    "      elif(i.isupper()):\n",
    "            count2=count2+1\n",
    "    print(\"The number of lowercase characters is:\")\n",
    "    print(count1)\n",
    "    print(\"The number of uppercase characters is:\")\n",
    "    print(count2)\n",
    "    \n",
    "string(\"hammad\")\n",
    "\n"
   ]
  },
  {
   "cell_type": "code",
   "execution_count": 11,
   "metadata": {},
   "outputs": [
    {
     "name": "stdout",
     "output_type": "stream",
     "text": [
      "2\n",
      "4\n",
      "6\n",
      "8\n",
      "10\n",
      "12\n"
     ]
    }
   ],
   "source": [
    "#uestion # 3\n",
    "\n",
    "def prime():\n",
    "    ranlist=[1,2,3,4,5,6,7,8,9,10,12]\n",
    "    for number in ranlist:\n",
    "        if number % 2 == 0:\n",
    "            print(number)\n",
    "prime()"
   ]
  },
  {
   "cell_type": "code",
   "execution_count": 25,
   "metadata": {},
   "outputs": [
    {
     "data": {
      "text/plain": [
       "True"
      ]
     },
     "execution_count": 25,
     "metadata": {},
     "output_type": "execute_result"
    }
   ],
   "source": [
    "#question # 4\n",
    "\n",
    "# function which return reverse of a string \n",
    "def reverse(s): \n",
    "    return s[::-1] \n",
    "  \n",
    "def isPalindrome(s): \n",
    "    # Calling reverse function \n",
    "    rev = reverse(s) \n",
    "  \n",
    "    # Checking if both string are equal or not \n",
    "    if (s == rev): \n",
    "        return True\n",
    "    return False\n",
    "\n",
    "isPalindrome(\"malayalam\")\n",
    "\n",
    "\n"
   ]
  },
  {
   "cell_type": "code",
   "execution_count": 7,
   "metadata": {},
   "outputs": [
    {
     "name": "stdout",
     "output_type": "stream",
     "text": [
      "The number is prime \n"
     ]
    }
   ],
   "source": [
    "#uestion # 5\n",
    "def check_number(num):\n",
    "    if num %2 != 0:\n",
    "        print(\"The number is prime \")\n",
    "    else:\n",
    "        print(\"It is not a prime number\")\n",
    "\n",
    "check_number(11)\n",
    "\n"
   ]
  },
  {
   "cell_type": "code",
   "execution_count": 8,
   "metadata": {},
   "outputs": [
    {
     "name": "stdout",
     "output_type": "stream",
     "text": [
      "food\n",
      "vegetables\n",
      "grocery\n",
      "potato\n"
     ]
    }
   ],
   "source": [
    "#question # 6\n",
    "\n",
    "def shopping_list(*things):\n",
    "    for thing in things:\n",
    "        print(thing)\n",
    "        \n",
    "shopping_list(\"food\",\"vegetables\",\"grocery\",\"potato\")\n"
   ]
  },
  {
   "cell_type": "code",
   "execution_count": null,
   "metadata": {},
   "outputs": [],
   "source": []
  }
 ],
 "metadata": {
  "kernelspec": {
   "display_name": "Python 3",
   "language": "python",
   "name": "python3"
  },
  "language_info": {
   "codemirror_mode": {
    "name": "ipython",
    "version": 3
   },
   "file_extension": ".py",
   "mimetype": "text/x-python",
   "name": "python",
   "nbconvert_exporter": "python",
   "pygments_lexer": "ipython3",
   "version": "3.7.4"
  }
 },
 "nbformat": 4,
 "nbformat_minor": 2
}
